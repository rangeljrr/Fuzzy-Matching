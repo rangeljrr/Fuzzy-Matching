{
 "cells": [
  {
   "cell_type": "code",
   "execution_count": 1,
   "metadata": {},
   "outputs": [
    {
     "name": "stderr",
     "output_type": "stream",
     "text": [
      "C:\\Users\\yrr8790\\Anaconda3\\lib\\site-packages\\fuzzywuzzy\\fuzz.py:11: UserWarning: Using slow pure-python SequenceMatcher. Install python-Levenshtein to remove this warning\n",
      "  warnings.warn('Using slow pure-python SequenceMatcher. Install python-Levenshtein to remove this warning')\n"
     ]
    }
   ],
   "source": [
    "import pandas as pd\n",
    "\n",
    "from _fuzzy_matching_engine import list_files, roddys_fuzzy_main\n",
    "from _config import input_path, source_path, results_path\n",
    "from _preprocess_functions import create_target, delete_target\n",
    "\n",
    "files = list_files(input_path)\n",
    "\n",
    "for file in files:  \n",
    "    \n",
    "     # Create fuzzy target in input/source files\n",
    "    create_target(pd.read_csv(input_path + file), input_path + file)\n",
    "    create_target(pd.read_csv(source_path + file), source_path + file)\n",
    "    \n",
    "    # Compare logic\n",
    "    roddys_fuzzy_main(input_path + file, source_path + file ,results_path + file, use_token_reduction=True)\n",
    "    \n",
    "    # Remove fuzzy target from input/source files\n",
    "    create_target(pd.read_csv(input_path + file), input_path + file)\n",
    "    create_target(pd.read_csv(source_path + file), source_path + file)\n"
   ]
  },
  {
   "cell_type": "code",
   "execution_count": null,
   "metadata": {},
   "outputs": [],
   "source": []
  },
  {
   "cell_type": "code",
   "execution_count": null,
   "metadata": {},
   "outputs": [],
   "source": []
  },
  {
   "cell_type": "code",
   "execution_count": null,
   "metadata": {},
   "outputs": [],
   "source": []
  }
 ],
 "metadata": {
  "kernelspec": {
   "display_name": "Python 3",
   "language": "python",
   "name": "python3"
  },
  "language_info": {
   "codemirror_mode": {
    "name": "ipython",
    "version": 3
   },
   "file_extension": ".py",
   "mimetype": "text/x-python",
   "name": "python",
   "nbconvert_exporter": "python",
   "pygments_lexer": "ipython3",
   "version": "3.8.5"
  }
 },
 "nbformat": 4,
 "nbformat_minor": 4
}
